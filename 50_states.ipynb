{
 "cells": [
  {
   "cell_type": "code",
   "execution_count": 8,
   "metadata": {
    "collapsed": true,
    "deletable": true,
    "editable": true
   },
   "outputs": [],
   "source": [
    "import quandl\n",
    "import pandas as pd"
   ]
  },
  {
   "cell_type": "code",
   "execution_count": 9,
   "metadata": {
    "collapsed": false,
    "deletable": true,
    "editable": true,
    "scrolled": true
   },
   "outputs": [],
   "source": [
    "quandl.ApiConfig.api_key = 'e15L9gx4sy1fg7QrZ5XG'"
   ]
  },
  {
   "cell_type": "code",
   "execution_count": 10,
   "metadata": {
    "collapsed": false,
    "deletable": true,
    "editable": true
   },
   "outputs": [],
   "source": [
    "df = quandl.get('FMAC/HPI_AK', authtoken = quandl.ApiConfig.api_key)"
   ]
  },
  {
   "cell_type": "code",
   "execution_count": 11,
   "metadata": {
    "collapsed": false,
    "deletable": true,
    "editable": true
   },
   "outputs": [
    {
     "data": {
      "text/html": [
       "<div>\n",
       "<table border=\"1\" class=\"dataframe\">\n",
       "  <thead>\n",
       "    <tr style=\"text-align: right;\">\n",
       "      <th></th>\n",
       "      <th>Value</th>\n",
       "    </tr>\n",
       "    <tr>\n",
       "      <th>Date</th>\n",
       "      <th></th>\n",
       "    </tr>\n",
       "  </thead>\n",
       "  <tbody>\n",
       "    <tr>\n",
       "      <th>1975-01-31</th>\n",
       "      <td>34.447924</td>\n",
       "    </tr>\n",
       "    <tr>\n",
       "      <th>1975-02-28</th>\n",
       "      <td>34.958144</td>\n",
       "    </tr>\n",
       "    <tr>\n",
       "      <th>1975-03-31</th>\n",
       "      <td>35.480144</td>\n",
       "    </tr>\n",
       "    <tr>\n",
       "      <th>1975-04-30</th>\n",
       "      <td>36.024334</td>\n",
       "    </tr>\n",
       "    <tr>\n",
       "      <th>1975-05-31</th>\n",
       "      <td>36.617578</td>\n",
       "    </tr>\n",
       "  </tbody>\n",
       "</table>\n",
       "</div>"
      ],
      "text/plain": [
       "                Value\n",
       "Date                 \n",
       "1975-01-31  34.447924\n",
       "1975-02-28  34.958144\n",
       "1975-03-31  35.480144\n",
       "1975-04-30  36.024334\n",
       "1975-05-31  36.617578"
      ]
     },
     "execution_count": 11,
     "metadata": {},
     "output_type": "execute_result"
    }
   ],
   "source": [
    "df.head()"
   ]
  },
  {
   "cell_type": "code",
   "execution_count": 12,
   "metadata": {
    "collapsed": false,
    "deletable": true,
    "editable": true
   },
   "outputs": [],
   "source": [
    "state_abbr = pd.read_html('https://simple.wikipedia.org/wiki/List_of_U.S._states')"
   ]
  },
  {
   "cell_type": "code",
   "execution_count": 14,
   "metadata": {
    "collapsed": false,
    "deletable": true,
    "editable": true
   },
   "outputs": [
    {
     "data": {
      "text/plain": [
       "0     Abbreviation\n",
       "1               AL\n",
       "2               AK\n",
       "3               AZ\n",
       "4               AR\n",
       "5               CA\n",
       "6               CO\n",
       "7               CT\n",
       "8               DE\n",
       "9               FL\n",
       "10              GA\n",
       "11              HI\n",
       "12              ID\n",
       "13              IL\n",
       "14              IN\n",
       "15              IA\n",
       "16              KS\n",
       "17              KY\n",
       "18              LA\n",
       "19              ME\n",
       "20              MD\n",
       "21              MA\n",
       "22              MI\n",
       "23              MN\n",
       "24              MS\n",
       "25              MO\n",
       "26              MT\n",
       "27              NE\n",
       "28              NV\n",
       "29              NH\n",
       "30              NJ\n",
       "31              NM\n",
       "32              NY\n",
       "33              NC\n",
       "34              ND\n",
       "35              OH\n",
       "36              OK\n",
       "37              OR\n",
       "38              PA\n",
       "39              RI\n",
       "40              SC\n",
       "41              SD\n",
       "42              TN\n",
       "43              TX\n",
       "44              UT\n",
       "45              VT\n",
       "46              VA\n",
       "47              WA\n",
       "48              WV\n",
       "49              WI\n",
       "50              WY\n",
       "Name: 0, dtype: object"
      ]
     },
     "execution_count": 14,
     "metadata": {},
     "output_type": "execute_result"
    }
   ],
   "source": [
    "state_abbr[0][0]"
   ]
  },
  {
   "cell_type": "code",
   "execution_count": 24,
   "metadata": {
    "collapsed": false,
    "deletable": true,
    "editable": true
   },
   "outputs": [
    {
     "name": "stdout",
     "output_type": "stream",
     "text": [
      "FMAC/HPI_State Name\n",
      "FMAC/HPI_Alabama\n",
      "FMAC/HPI_Alaska\n",
      "FMAC/HPI_Arizona\n",
      "FMAC/HPI_Arkansas\n",
      "FMAC/HPI_California\n",
      "FMAC/HPI_Colorado\n",
      "FMAC/HPI_Connecticut\n",
      "FMAC/HPI_Delaware\n",
      "FMAC/HPI_Florida\n",
      "FMAC/HPI_Georgia\n",
      "FMAC/HPI_Hawaii\n",
      "FMAC/HPI_Idaho\n",
      "FMAC/HPI_Illinois\n",
      "FMAC/HPI_Indiana\n",
      "FMAC/HPI_Iowa\n",
      "FMAC/HPI_Kansas\n",
      "FMAC/HPI_Kentucky\n",
      "FMAC/HPI_Louisiana\n",
      "FMAC/HPI_Maine\n",
      "FMAC/HPI_Maryland\n",
      "FMAC/HPI_Massachusetts\n",
      "FMAC/HPI_Michigan\n",
      "FMAC/HPI_Minnesota\n",
      "FMAC/HPI_Mississippi\n",
      "FMAC/HPI_Missouri\n",
      "FMAC/HPI_Montana\n",
      "FMAC/HPI_Nebraska\n",
      "FMAC/HPI_Nevada\n",
      "FMAC/HPI_New Hampshire\n",
      "FMAC/HPI_New Jersey\n",
      "FMAC/HPI_New Mexico\n",
      "FMAC/HPI_New York\n",
      "FMAC/HPI_North Carolina\n",
      "FMAC/HPI_North Dakota\n",
      "FMAC/HPI_Ohio\n",
      "FMAC/HPI_Oklahoma\n",
      "FMAC/HPI_Oregon\n",
      "FMAC/HPI_Pennsylvania\n",
      "FMAC/HPI_Rhode Island\n",
      "FMAC/HPI_South Carolina\n",
      "FMAC/HPI_South Dakota\n",
      "FMAC/HPI_Tennessee\n",
      "FMAC/HPI_Texas\n",
      "FMAC/HPI_Utah\n",
      "FMAC/HPI_Vermont\n",
      "FMAC/HPI_Virginia\n",
      "FMAC/HPI_Washington\n",
      "FMAC/HPI_West Virginia\n",
      "FMAC/HPI_Wisconsin\n",
      "FMAC/HPI_Wyoming\n"
     ]
    }
   ],
   "source": [
    "for abbr in state_abbr[0][1]:\n",
    "        print(\"FMAC/HPI_\" + str(abbr))\n",
    " "
   ]
  },
  {
   "cell_type": "code",
   "execution_count": 20,
   "metadata": {
    "collapsed": false,
    "deletable": true,
    "editable": true
   },
   "outputs": [
    {
     "data": {
      "text/plain": [
       "'FMAC/HPI_Wyoming'"
      ]
     },
     "execution_count": 20,
     "metadata": {},
     "output_type": "execute_result"
    }
   ],
   "source": [
    "states_new"
   ]
  },
  {
   "cell_type": "code",
   "execution_count": null,
   "metadata": {
    "collapsed": true,
    "deletable": true,
    "editable": true
   },
   "outputs": [],
   "source": []
  }
 ],
 "metadata": {
  "kernelspec": {
   "display_name": "Python 3",
   "language": "python",
   "name": "python3"
  },
  "language_info": {
   "codemirror_mode": {
    "name": "ipython",
    "version": 3
   },
   "file_extension": ".py",
   "mimetype": "text/x-python",
   "name": "python",
   "nbconvert_exporter": "python",
   "pygments_lexer": "ipython3",
   "version": "3.6.1"
  }
 },
 "nbformat": 4,
 "nbformat_minor": 2
}
